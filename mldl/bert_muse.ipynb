{
  "cells": [
    {
      "cell_type": "code",
      "execution_count": null,
      "metadata": {
        "colab": {
          "background_save": true
        },
        "id": "VWhZUS7DlQ7T"
      },
      "outputs": [],
      "source": [
        " !pip install tensorflow_hub tensorflow_text pytorch_lightning datasets -q"
      ]
    },
    {
      "cell_type": "code",
      "execution_count": null,
      "metadata": {
        "colab": {
          "background_save": true
        },
        "id": "XXqUpGmHV8mC"
      },
      "outputs": [],
      "source": [
        "import pytorch_lightning as pl\n",
        "import torch\n",
        "import torch.nn as nn\n",
        "import torch.nn.functional as F\n",
        "import tensorflow as tf\n",
        "import tensorflow_hub as hub\n",
        "import tensorflow_text\n",
        "from torch.utils.data import DataLoader\n",
        "from datasets import Dataset, load_dataset, load_metric\n",
        "import numpy as np\n",
        "import dataloading\n",
        "import modeling\n",
        "from typing import List, Dict"
      ]
    },
    {
      "cell_type": "code",
      "execution_count": null,
      "metadata": {
        "colab": {
          "base_uri": "https://localhost:8080/"
        },
        "id": "Uj5lGtrE8XQv",
        "outputId": "0d4b0e07-7a8c-41ab-b918-44c05b931a2e"
      },
      "outputs": [
        {
          "name": "stderr",
          "output_type": "stream",
          "text": [
            "INFO:lightning_fabric.utilities.seed:Seed set to 445326\n"
          ]
        },
        {
          "data": {
            "text/plain": [
              "445326"
            ]
          },
          "execution_count": 6,
          "metadata": {},
          "output_type": "execute_result"
        }
      ],
      "source": [
        "pl.seed_everything(445326, workers=True)"
      ]
    },
    {
      "cell_type": "code",
      "execution_count": null,
      "metadata": {
        "id": "FKDd4_jV_ebv"
      },
      "outputs": [],
      "source": [
        "# model_URL = 'https://tfhub.dev/google/universal-sentence-encoder-large/5'\n",
        "# encoder = hub.load(model_URL)"
      ]
    },
    {
      "cell_type": "code",
      "execution_count": null,
      "metadata": {
        "id": "rNZwVHOmmXcS"
      },
      "outputs": [],
      "source": [
        "data=dataloading.YelpDataLoader()\n",
        "data.prepare_data()"
      ]
    },
    {
      "cell_type": "code",
      "execution_count": null,
      "metadata": {
        "id": "sgrti30gme14"
      },
      "outputs": [],
      "source": [
        "data.setup()\n",
        "print(len(data.train))\n",
        "print(len(data.val))\n",
        "print(len(data.test))"
      ]
    },
    {
      "cell_type": "markdown",
      "metadata": {
        "id": "TKT5RL5AHnKE"
      },
      "source": [
        "* Computations (init).\n",
        "\n",
        "* Train Loop (training_step)\n",
        "\n",
        "* Validation Loop (validation_step)\n",
        "\n",
        "* Test Loop (test_step)\n",
        "\n",
        "* Prediction Loop (predict_step)\n",
        "\n",
        "* Optimizers and LR Schedulers (configure_optimizers)"
      ]
    },
    {
      "cell_type": "markdown",
      "metadata": {
        "id": "sUicJkL3qjyS"
      },
      "source": [
        "## Train"
      ]
    },
    {
      "cell_type": "code",
      "execution_count": null,
      "metadata": {
        "id": "oXRr5jEGNP8C"
      },
      "outputs": [],
      "source": [
        "model = modeling.Model()"
      ]
    },
    {
      "cell_type": "code",
      "execution_count": null,
      "metadata": {
        "colab": {
          "base_uri": "https://localhost:8080/"
        },
        "id": "7mvtBO54qbvu",
        "outputId": "26057117-81dc-4d14-a44b-396e4366c3ea"
      },
      "outputs": [
        {
          "name": "stderr",
          "output_type": "stream",
          "text": [
            "INFO:pytorch_lightning.utilities.rank_zero:GPU available: True (cuda), used: True\n",
            "INFO:pytorch_lightning.utilities.rank_zero:TPU available: False, using: 0 TPU cores\n",
            "INFO:pytorch_lightning.utilities.rank_zero:IPU available: False, using: 0 IPUs\n",
            "INFO:pytorch_lightning.utilities.rank_zero:HPU available: False, using: 0 HPUs\n"
          ]
        }
      ],
      "source": [
        "epochs = 15\n",
        "checkpoint_callback = pl.callbacks.ModelCheckpoint(\n",
        "    monitor=\"val_loss\",\n",
        "    dirpath=\"model\",\n",
        "    filename=\"yelp-sentiment-multilingual-{epoch:02d}-{val_loss:.3f}\",\n",
        "    save_top_k=3,\n",
        "    mode=\"min\")\n",
        "trainer = pl.Trainer( epochs=epochs,callbacks=[checkpoint_callback])"
      ]
    },
    {
      "cell_type": "code",
      "execution_count": null,
      "metadata": {
        "id": "kn8BVpOVrg80"
      },
      "outputs": [],
      "source": [
        "trainer.fit(model, data.train_dataloader(), data.val_dataloader())"
      ]
    },
    {
      "cell_type": "code",
      "execution_count": null,
      "metadata": {
        "id": "wjglZONKrVNb"
      },
      "outputs": [],
      "source": [
        "trainer.test(dataloaders=data.test_dataloader())"
      ]
    },
    {
      "cell_type": "code",
      "execution_count": null,
      "metadata": {
        "id": "p80gzltlEi3R"
      },
      "outputs": [],
      "source": [
        "best_model = modeling.Model.load_from_checkpoint(checkpoint_callback.best_model_path)"
      ]
    },
    {
      "cell_type": "code",
      "execution_count": null,
      "metadata": {
        "id": "qeFkzIMaGQRi"
      },
      "outputs": [],
      "source": [
        "from pprint import PrettyPrinter\n",
        "pp = PrettyPrinter()"
      ]
    },
    {
      "cell_type": "code",
      "execution_count": null,
      "metadata": {
        "id": "u1d5kZWVHnKH"
      },
      "outputs": [],
      "source": [
        "def predict(text: List[str]):\n",
        "    \"\"\"\n",
        "    function predicts the sentiment of a list of sentences using a pre-trained model.\n",
        "    \"\"\"\n",
        "    embeddings=torch.Tensor(dataloading.embed_text(text)).cuda()\n",
        "    logits=best_model(embeddings)\n",
        "    preds=torch.argmax(logits, dim=1).detach().cpu().numpy()\n",
        "    scores= torch.softmax(logits, dim=1).detach().cpu().numpy()\n",
        "    results=[]\n",
        "    for t, best_index, score_pair in zip(text, preds, scores):\n",
        "        results.append({\n",
        "            \"text\": t,\n",
        "            \"label\": \"positive\" if best_index == 1 else \"negative\",\n",
        "            \"score\": score_pair[best_index]\n",
        "        })\n",
        "    return results"
      ]
    },
    {
      "cell_type": "markdown",
      "metadata": {
        "id": "nbWJhY1CHmBy"
      },
      "source": [
        "Compare predictions for eng and german."
      ]
    },
    {
      "cell_type": "code",
      "execution_count": null,
      "metadata": {
        "colab": {
          "base_uri": "https://localhost:8080/"
        },
        "id": "qtClhlYFCQ8B",
        "outputId": "c768b5ca-9606-4abf-ca0b-a94d04209e08"
      },
      "outputs": [
        {
          "name": "stdout",
          "output_type": "stream",
          "text": [
            "[   {   'label': 'positive',\n",
            "        'score': 0.99977034,\n",
            "        'text': 'Like any Barnes & Noble, it has a nice comfy cafe, and a '\n",
            "                'large selection of books. The staff is very friendly and '\n",
            "                'helpful. They stock a decent selection, and the prices are '\n",
            "                'pretty reasonable.'},\n",
            "    {   'label': 'positive',\n",
            "        'score': 0.9281242,\n",
            "        'text': 'Wie jedes Barnes & Noble hat es ein nettes, gemütliches Café '\n",
            "                'und eine große Auswahl an Büchern. Das Personal ist sehr '\n",
            "                'freundlich und hilfsbereit. Sie haben eine anständige Auswahl '\n",
            "                'und die Preise sind ziemlich vernünftig.'}]\n"
          ]
        }
      ],
      "source": [
        "english_text = \"Like any Barnes & Noble, it has a nice comfy cafe, and a large selection of books. The staff is very friendly and helpful. They stock a decent selection, and the prices are pretty reasonable.\"\n",
        "german_translation = \"Wie jedes Barnes & Noble hat es ein nettes, gemütliches Café und eine große Auswahl an Büchern. Das Personal ist sehr freundlich und hilfsbereit. Sie haben eine anständige Auswahl und die Preise sind ziemlich vernünftig.\"\n",
        "pp.pprint(predict([english_text, german_translation]))"
      ]
    },
    {
      "cell_type": "code",
      "execution_count": null,
      "metadata": {
        "id": "zVgtEf2LKIcN"
      },
      "outputs": [],
      "source": [
        "embeddings = torch.Tensor(dataloading.embed_text([english_text, italian_translation])).cuda()\n",
        "logits=best_model(embeddings)\n",
        "preds=torch.argmax(logits, dim=1).detach().cpu().numpy()\n",
        "scores=torch.softmax(logits, dim=1).detach().cpu().numpy()\n",
        "results=[]\n",
        "for t, best_index, score_pair in zip([english_text, italian_translation], preds, scores):\n",
        "    results.append({\n",
        "        \"text\": t,\n",
        "        \"label\": \"positive\" if best_index == 1 else \"negative\",\n",
        "        \"score\": score_pair[best_index]\n",
        "    })\n",
        "pp.pprint(results)"
      ]
    },
    {
      "cell_type": "code",
      "execution_count": null,
      "metadata": {
        "colab": {
          "base_uri": "https://localhost:8080/"
        },
        "id": "QIV2OBfaCxDr",
        "outputId": "173ed06c-2502-44a9-954d-f345176cf831"
      },
      "outputs": [
        {
          "name": "stdout",
          "output_type": "stream",
          "text": [
            "[   {   'label': 'negative',\n",
            "        'score': 0.99893755,\n",
            "        'text': 'The inside of the Restaurant was not clean at all. And we '\n",
            "                'also did not like their lighting arrangement. Too dark.'},\n",
            "    {   'label': 'negative',\n",
            "        'score': 0.5849371,\n",
            "        'text': \"L'interno del Ristorante non era affatto pulito. E non ci \"\n",
            "                'piaceva nemmeno la loro disposizione delle luci. Troppo '\n",
            "                'scuro.'},\n",
            "    {   'label': 'negative',\n",
            "        'score': 0.8327144,\n",
            "        'text': 'Ravintolan sisäpuoli ei ollut ollenkaan puhdas. Ja emme '\n",
            "                'myöskään pitäneet heidän valaistusjärjestelystä. Liian '\n",
            "                'pimeä.'}]\n"
          ]
        }
      ],
      "source": [
        "english_text = \"The inside of the Restaurant was not clean at all. And we also did not like their lighting arrangement. Too dark.\"\n",
        "italian_translation = \"L'interno del Ristorante non era affatto pulito. E non ci piaceva nemmeno la loro disposizione delle luci. Troppo scuro.\"\n",
        "finnish_translation = \"Ravintolan sisäpuoli ei ollut ollenkaan puhdas. Ja emme myöskään pitäneet heidän valaistusjärjestelystä. Liian pimeä.\"\n",
        "pp.pprint(predict([english_text, italian_translation, finnish_translation]))"
      ]
    },
    {
      "cell_type": "code",
      "execution_count": null,
      "metadata": {
        "colab": {
          "base_uri": "https://localhost:8080/"
        },
        "id": "bNd8iWJWLzzA",
        "outputId": "a3e66e71-7a1b-4ae3-acdb-b641ddeb2e1d"
      },
      "outputs": [
        {
          "name": "stdout",
          "output_type": "stream",
          "text": [
            "[   {   'label': 'positive',\n",
            "        'score': 0.98286957,\n",
            "        'text': 'Just had the best day ever! Everything went perfectly, and I '\n",
            "                'feel so happy!'},\n",
            "    {   'label': 'positive',\n",
            "        'score': 0.9439262,\n",
            "        'text': 'Ho appena trascorso la giornata migliore di sempre! Tutto è '\n",
            "                'andato perfettamente e mi sento così felice!'}]\n"
          ]
        }
      ],
      "source": [
        "english_text = \"Just had the best day ever! Everything went perfectly, and I feel so happy!\"\n",
        "italian_translation = \"Ho appena trascorso la giornata migliore di sempre! Tutto è andato perfettamente e mi sento così felice!\"\n",
        "pp.pprint(predict([english_text, italian_translation]))"
      ]
    },
    {
      "cell_type": "code",
      "execution_count": null,
      "metadata": {
        "colab": {
          "base_uri": "https://localhost:8080/"
        },
        "id": "neJ41x1HMIt8",
        "outputId": "d41cddeb-8d48-4f15-f50d-e3bb68df2658"
      },
      "outputs": [
        {
          "name": "stdout",
          "output_type": "stream",
          "text": [
            "[   {   'label': 'negative',\n",
            "        'score': 0.9995815,\n",
            "        'text': 'Today was a complete disaster. Nothing went right, and I feel '\n",
            "                'so frustrated'},\n",
            "    {   'label': 'positive',\n",
            "        'score': 0.69991624,\n",
            "        'text': 'Oggi è stato un completo disastro. Niente è andato bene e mi '\n",
            "                'sento così frustrato.'}]\n"
          ]
        }
      ],
      "source": [
        "english_text = \"Today was a complete disaster. Nothing went right, and I feel so frustrated\"\n",
        "italian_translation = \"Oggi è stato un completo disastro. Niente è andato bene e mi sento così frustrato.\"\n",
        "pp.pprint(predict([english_text, italian_translation]))"
      ]
    }
  ],
  "metadata": {
    "accelerator": "GPU",
    "colab": {
      "provenance": []
    },
    "kernelspec": {
      "display_name": "Python 3.8.10 64-bit",
      "language": "python",
      "name": "python3"
    },
    "language_info": {
      "codemirror_mode": {
        "name": "ipython",
        "version": 3
      },
      "file_extension": ".py",
      "mimetype": "text/x-python",
      "name": "python",
      "nbconvert_exporter": "python",
      "pygments_lexer": "ipython3",
      "version": "3.8.10"
    },
    "vscode": {
      "interpreter": {
        "hash": "31f2aee4e71d21fbe5cf8b01ff0e069b9275f58929596ceb00d14d90e3e16cd6"
      }
    }
  },
  "nbformat": 4,
  "nbformat_minor": 0
}
